{
 "cells": [
  {
   "cell_type": "markdown",
   "metadata": {},
   "source": [
    "## Classifying Iris Notebook\n",
    "\n",
    "Please make sure you have **matplotlib** installed in the compute context you choose as kernel. \n",
    "\n",
    "- For local or remote **Docker kernels**, please ensure **notebook** and **matplotlib** are listed in your **conda_dependencies.yml** file under **aml_config** folder.\n",
    "```\n",
    "name: project_environment\n",
    "dependencies:\n",
    "  - python=3.5.2\n",
    "  - scikit-learn\n",
    "  - pip:\n",
    "      - notebook\n",
    "      - matplotlib\n",
    "```"
   ]
  },
  {
   "cell_type": "code",
   "execution_count": 8,
   "metadata": {},
   "outputs": [
    {
     "name": "stdout",
     "output_type": "stream",
     "text": [
      "History logging disabled\n"
     ]
    }
   ],
   "source": [
    "%matplotlib inline\n",
    "%azureml history off"
   ]
  }
 ],
   "metadata": {
  "language_info": {
   "codemirror_mode": {
    "name": "ipython",
    "version": 3
   },
   "file_extension": ".py",
   "mimetype": "text/x-python",
   "name": "python",
   "nbconvert_exporter": "python",
   "pygments_lexer": "ipython3",
   "version": "3.5.2"
  }
 },
 "nbformat": 4,
 "nbformat_minor": 2
}
